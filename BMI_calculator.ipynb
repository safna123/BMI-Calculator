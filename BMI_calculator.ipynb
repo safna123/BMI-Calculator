{
  "nbformat": 4,
  "nbformat_minor": 0,
  "metadata": {
    "colab": {
      "name": "BMI calculator",
      "provenance": [],
      "collapsed_sections": [],
      "authorship_tag": "ABX9TyNKndbn8EhuSCNhrbep3V+s",
      "include_colab_link": true
    },
    "kernelspec": {
      "name": "python3",
      "display_name": "Python 3"
    }
  },
  "cells": [
    {
      "cell_type": "markdown",
      "metadata": {
        "id": "view-in-github",
        "colab_type": "text"
      },
      "source": [
        "<a href=\"https://colab.research.google.com/github/safna123/BMI-Calculator/blob/main/BMI_calculator.ipynb\" target=\"_parent\"><img src=\"https://colab.research.google.com/assets/colab-badge.svg\" alt=\"Open In Colab\"/></a>"
      ]
    },
    {
      "cell_type": "code",
      "metadata": {
        "colab": {
          "base_uri": "https://localhost:8080/"
        },
        "id": "Xy7-5P8DPHms",
        "outputId": "c14c27db-08e2-43c3-ac8d-ee174a5c7fb0"
      },
      "source": [
        "Height = float(input(\"Height in meters \"))\r\n",
        "Weight = float(input(\"Weight in kg \"))\r\n",
        "BMI = Weight/(Height * Height)\r\n",
        "print(BMI)\r\n",
        "if(BMI <= 18.5):\r\n",
        "    print(\"UnderWeight\")\r\n",
        "elif(BMI >18.5 and BMI <= 24.9):\r\n",
        "    print(\"Normal Weight\")\r\n",
        "elif(BMI > 24.9 and BMI <= 29.9):\r\n",
        "    print(\"OverWeight\")\r\n",
        "else:\r\n",
        "    print(\"Obesity\")"
      ],
      "execution_count": null,
      "outputs": [
        {
          "output_type": "stream",
          "text": [
            "Height in meters 1.6383\n",
            "Weight in kg 60\n",
            "22.354470524697312\n",
            "Normal Weight\n"
          ],
          "name": "stdout"
        }
      ]
    }
  ]
}